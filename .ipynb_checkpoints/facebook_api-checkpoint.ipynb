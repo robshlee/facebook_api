{
 "cells": [
  {
   "cell_type": "markdown",
   "metadata": {},
   "source": [
    "# Facebook API\n",
    "In this notebook I'll be interacting with facebook's Graph API Explorer to find some insight on facebook pages. As a premise, "
   ]
  },
  {
   "cell_type": "code",
   "execution_count": 1,
   "metadata": {
    "collapsed": true
   },
   "outputs": [],
   "source": [
    "import requests\n",
    "import time\n",
    "import pickle\n",
    "import random\n",
    "import string\n",
    "\n",
    "from operator import itemgetter\n",
    "import pandas as pd\n",
    "import numpy as np"
   ]
  },
  {
   "cell_type": "code",
   "execution_count": 2,
   "metadata": {
    "collapsed": true
   },
   "outputs": [],
   "source": [
    "# My user token\n",
    "token = 'EAACEdEose0cBAB8tZA0bH6OeZCrOT9IyFlS02wZCP6HZAWq1g6qJsImd22JVjulcdPLjUtMAMyh5OabmZAXnK7ttKbtYCU8IyxAOWZBWEdQZAKm6XQbgmFZBJ2OyBIhtJiiXlMSfmXVi9McJ0IFh7mRYwVafmZBYJSirJtfTeod4SLXNmkngftOTBEeeTFGq9NAKNl9s4wcDaGQZDZD'"
   ]
  },
  {
   "cell_type": "code",
   "execution_count": 3,
   "metadata": {
    "collapsed": true
   },
   "outputs": [],
   "source": [
    "def req_facebook(req):\n",
    "    '''This function takes the request string and returns the response'''\n",
    "    r = requests.get('https://graph.facebook.com/v2.8/' + \\\n",
    "                    req, {'access_token': token})\n",
    "    return r"
   ]
  },
  {
   "cell_type": "code",
   "execution_count": 4,
   "metadata": {
    "collapsed": true,
    "scrolled": true
   },
   "outputs": [],
   "source": [
    "# Read json for steam post likes\n",
    "result = req_facebook('steam?fields=posts{comments.limit(0).summary(true)}').json()\n",
    "\n",
    "# Save result as only the posts\n",
    "result = result['posts']"
   ]
  },
  {
   "cell_type": "code",
   "execution_count": 5,
   "metadata": {
    "collapsed": true
   },
   "outputs": [],
   "source": [
    "# Store the post likes in the data list\n",
    "data = []\n",
    "\n",
    "i = 0\n",
    "\n",
    "while True:\n",
    "    try:\n",
    "        # sleeper so we don't attack fb!\n",
    "        time.sleep(random.randint(2, 5))\n",
    "        # extend appends a list into another list\n",
    "        data.extend(result['data'])\n",
    "        result = requests.get(result['paging']['next']).json()\n",
    "        i += 1\n",
    "        \n",
    "        if i > 5:\n",
    "            break\n",
    "        \n",
    "    except:\n",
    "        print('done')\n",
    "        break\n",
    "        \n",
    "# Save data using pickle\n",
    "pickle.dump(data, open('steam_data.pkl', 'wb'))"
   ]
  },
  {
   "cell_type": "code",
   "execution_count": 90,
   "metadata": {
    "collapsed": true
   },
   "outputs": [],
   "source": [
    "loaded_data = pickle.load(file=open('steam_data.pkl', 'rb'))"
   ]
  },
  {
   "cell_type": "code",
   "execution_count": 97,
   "metadata": {},
   "outputs": [
    {
     "data": {
      "text/html": [
       "<div>\n",
       "<style>\n",
       "    .dataframe thead tr:only-child th {\n",
       "        text-align: right;\n",
       "    }\n",
       "\n",
       "    .dataframe thead th {\n",
       "        text-align: left;\n",
       "    }\n",
       "\n",
       "    .dataframe tbody tr th {\n",
       "        vertical-align: top;\n",
       "    }\n",
       "</style>\n",
       "<table border=\"1\" class=\"dataframe\">\n",
       "  <thead>\n",
       "    <tr style=\"text-align: right;\">\n",
       "      <th></th>\n",
       "      <th>comments.data</th>\n",
       "      <th>comments.summary.can_comment</th>\n",
       "      <th>comments.summary.order</th>\n",
       "      <th>comments.summary.total_count</th>\n",
       "      <th>id</th>\n",
       "    </tr>\n",
       "  </thead>\n",
       "  <tbody>\n",
       "    <tr>\n",
       "      <th>0</th>\n",
       "      <td>[]</td>\n",
       "      <td>True</td>\n",
       "      <td>ranked</td>\n",
       "      <td>30</td>\n",
       "      <td>67919847338_10155308838982339</td>\n",
       "    </tr>\n",
       "    <tr>\n",
       "      <th>1</th>\n",
       "      <td>[]</td>\n",
       "      <td>True</td>\n",
       "      <td>ranked</td>\n",
       "      <td>62</td>\n",
       "      <td>67919847338_10155306544662339</td>\n",
       "    </tr>\n",
       "    <tr>\n",
       "      <th>2</th>\n",
       "      <td>[]</td>\n",
       "      <td>True</td>\n",
       "      <td>ranked</td>\n",
       "      <td>116</td>\n",
       "      <td>67919847338_10155304469922339</td>\n",
       "    </tr>\n",
       "    <tr>\n",
       "      <th>3</th>\n",
       "      <td>[]</td>\n",
       "      <td>True</td>\n",
       "      <td>ranked</td>\n",
       "      <td>55</td>\n",
       "      <td>67919847338_10155304314382339</td>\n",
       "    </tr>\n",
       "    <tr>\n",
       "      <th>4</th>\n",
       "      <td>[]</td>\n",
       "      <td>True</td>\n",
       "      <td>ranked</td>\n",
       "      <td>12</td>\n",
       "      <td>67919847338_10155304314352339</td>\n",
       "    </tr>\n",
       "  </tbody>\n",
       "</table>\n",
       "</div>"
      ],
      "text/plain": [
       "  comments.data  comments.summary.can_comment comments.summary.order  \\\n",
       "0            []                          True                 ranked   \n",
       "1            []                          True                 ranked   \n",
       "2            []                          True                 ranked   \n",
       "3            []                          True                 ranked   \n",
       "4            []                          True                 ranked   \n",
       "\n",
       "   comments.summary.total_count                             id  \n",
       "0                            30  67919847338_10155308838982339  \n",
       "1                            62  67919847338_10155306544662339  \n",
       "2                           116  67919847338_10155304469922339  \n",
       "3                            55  67919847338_10155304314382339  \n",
       "4                            12  67919847338_10155304314352339  "
      ]
     },
     "execution_count": 97,
     "metadata": {},
     "output_type": "execute_result"
    }
   ],
   "source": [
    "df = pd.io.json.json_normalize(loaded_data)\n",
    "df.head()"
   ]
  },
  {
   "cell_type": "code",
   "execution_count": 98,
   "metadata": {},
   "outputs": [
    {
     "data": {
      "text/html": [
       "<div>\n",
       "<style>\n",
       "    .dataframe thead tr:only-child th {\n",
       "        text-align: right;\n",
       "    }\n",
       "\n",
       "    .dataframe thead th {\n",
       "        text-align: left;\n",
       "    }\n",
       "\n",
       "    .dataframe tbody tr th {\n",
       "        vertical-align: top;\n",
       "    }\n",
       "</style>\n",
       "<table border=\"1\" class=\"dataframe\">\n",
       "  <thead>\n",
       "    <tr style=\"text-align: right;\">\n",
       "      <th></th>\n",
       "      <th>comments.summary.total_count</th>\n",
       "      <th>id</th>\n",
       "    </tr>\n",
       "  </thead>\n",
       "  <tbody>\n",
       "    <tr>\n",
       "      <th>0</th>\n",
       "      <td>30</td>\n",
       "      <td>67919847338_10155308838982339</td>\n",
       "    </tr>\n",
       "    <tr>\n",
       "      <th>1</th>\n",
       "      <td>62</td>\n",
       "      <td>67919847338_10155306544662339</td>\n",
       "    </tr>\n",
       "    <tr>\n",
       "      <th>2</th>\n",
       "      <td>116</td>\n",
       "      <td>67919847338_10155304469922339</td>\n",
       "    </tr>\n",
       "    <tr>\n",
       "      <th>3</th>\n",
       "      <td>55</td>\n",
       "      <td>67919847338_10155304314382339</td>\n",
       "    </tr>\n",
       "    <tr>\n",
       "      <th>4</th>\n",
       "      <td>12</td>\n",
       "      <td>67919847338_10155304314352339</td>\n",
       "    </tr>\n",
       "  </tbody>\n",
       "</table>\n",
       "</div>"
      ],
      "text/plain": [
       "   comments.summary.total_count                             id\n",
       "0                            30  67919847338_10155308838982339\n",
       "1                            62  67919847338_10155306544662339\n",
       "2                           116  67919847338_10155304469922339\n",
       "3                            55  67919847338_10155304314382339\n",
       "4                            12  67919847338_10155304314352339"
      ]
     },
     "execution_count": 98,
     "metadata": {},
     "output_type": "execute_result"
    }
   ],
   "source": [
    "df.drop(['comments.data', 'comments.summary.can_comment', \\\n",
    "        'comments.summary.order'], axis=1, inplace=True)\n",
    "df.head()"
   ]
  },
  {
   "cell_type": "code",
   "execution_count": 99,
   "metadata": {},
   "outputs": [
    {
     "data": {
      "text/html": [
       "<div>\n",
       "<style>\n",
       "    .dataframe thead tr:only-child th {\n",
       "        text-align: right;\n",
       "    }\n",
       "\n",
       "    .dataframe thead th {\n",
       "        text-align: left;\n",
       "    }\n",
       "\n",
       "    .dataframe tbody tr th {\n",
       "        vertical-align: top;\n",
       "    }\n",
       "</style>\n",
       "<table border=\"1\" class=\"dataframe\">\n",
       "  <thead>\n",
       "    <tr style=\"text-align: right;\">\n",
       "      <th></th>\n",
       "      <th>total_comments</th>\n",
       "      <th>id</th>\n",
       "    </tr>\n",
       "  </thead>\n",
       "  <tbody>\n",
       "    <tr>\n",
       "      <th>0</th>\n",
       "      <td>30</td>\n",
       "      <td>67919847338_10155308838982339</td>\n",
       "    </tr>\n",
       "    <tr>\n",
       "      <th>1</th>\n",
       "      <td>62</td>\n",
       "      <td>67919847338_10155306544662339</td>\n",
       "    </tr>\n",
       "    <tr>\n",
       "      <th>2</th>\n",
       "      <td>116</td>\n",
       "      <td>67919847338_10155304469922339</td>\n",
       "    </tr>\n",
       "    <tr>\n",
       "      <th>3</th>\n",
       "      <td>55</td>\n",
       "      <td>67919847338_10155304314382339</td>\n",
       "    </tr>\n",
       "    <tr>\n",
       "      <th>4</th>\n",
       "      <td>12</td>\n",
       "      <td>67919847338_10155304314352339</td>\n",
       "    </tr>\n",
       "  </tbody>\n",
       "</table>\n",
       "</div>"
      ],
      "text/plain": [
       "   total_comments                             id\n",
       "0              30  67919847338_10155308838982339\n",
       "1              62  67919847338_10155306544662339\n",
       "2             116  67919847338_10155304469922339\n",
       "3              55  67919847338_10155304314382339\n",
       "4              12  67919847338_10155304314352339"
      ]
     },
     "execution_count": 99,
     "metadata": {},
     "output_type": "execute_result"
    }
   ],
   "source": [
    "df.rename(columns={'comments.summary.total_count': 'total_comments'},\\\n",
    "             inplace=True)\n",
    "df.head()"
   ]
  },
  {
   "cell_type": "code",
   "execution_count": null,
   "metadata": {
    "collapsed": true
   },
   "outputs": [],
   "source": []
  }
 ],
 "metadata": {
  "kernelspec": {
   "display_name": "Python 3",
   "language": "python",
   "name": "python3"
  },
  "language_info": {
   "codemirror_mode": {
    "name": "ipython",
    "version": 3
   },
   "file_extension": ".py",
   "mimetype": "text/x-python",
   "name": "python",
   "nbconvert_exporter": "python",
   "pygments_lexer": "ipython3",
   "version": "3.6.1"
  }
 },
 "nbformat": 4,
 "nbformat_minor": 2
}
